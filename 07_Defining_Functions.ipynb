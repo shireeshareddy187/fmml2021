{
  "nbformat": 4,
  "nbformat_minor": 0,
  "metadata": {
    "colab": {
      "name": "07_Defining_Functions.ipynb",
      "provenance": [],
      "include_colab_link": true
    },
    "kernelspec": {
      "name": "python3",
      "display_name": "Python 3"
    },
    "language_info": {
      "name": "python"
    }
  },
  "cells": [
    {
      "cell_type": "markdown",
      "metadata": {
        "id": "view-in-github",
        "colab_type": "text"
      },
      "source": [
        "<a href=\"https://colab.research.google.com/github/shireeshareddy187/fmml2021/blob/main/07_Defining_Functions.ipynb\" target=\"_parent\"><img src=\"https://colab.research.google.com/assets/colab-badge.svg\" alt=\"Open In Colab\"/></a>"
      ]
    },
    {
      "cell_type": "code",
      "metadata": {
        "id": "1pqsgNqwnbHE"
      },
      "source": [
        "def inList (my_char, my_list=['a','e','i','o','u']):\n",
        "  \"\"\" this is a function to check whether a char is vowel or not \"\"\"\n",
        "  for each_char in my_list:\n",
        "    if each_char == my_char.lower():\n",
        "      return True\n",
        "  return False"
      ],
      "execution_count": 1,
      "outputs": []
    },
    {
      "cell_type": "code",
      "metadata": {
        "id": "SLpNGCWYn6Er",
        "outputId": "acf0bc4b-936a-4ff8-b1d3-a88f38590d0f",
        "colab": {
          "base_uri": "https://localhost:8080/"
        }
      },
      "source": [
        "inList('Z', ['x', 'y', 'z'])"
      ],
      "execution_count": 3,
      "outputs": [
        {
          "output_type": "execute_result",
          "data": {
            "text/plain": [
              "True"
            ]
          },
          "metadata": {},
          "execution_count": 3
        }
      ]
    },
    {
      "cell_type": "code",
      "metadata": {
        "id": "r_KUNOW3rCc6"
      },
      "source": [
        "# Write a function to check whether a given number belongs to fibonacci series or not"
      ],
      "execution_count": 4,
      "outputs": []
    },
    {
      "cell_type": "code",
      "metadata": {
        "id": "LuIPlPM3FhWR",
        "outputId": "c7025afd-7de9-4eb6-d028-471081113d35",
        "colab": {
          "base_uri": "https://localhost:8080/"
        }
      },
      "source": [
        "n=int(input(\"enter a number :- \"))\n",
        "def fib(n):\n",
        "    a,b=0,1\n",
        "    for a in range (n):\n",
        "        if a<n:\n",
        "            print(a,end=\" \")\n",
        "            a,b=b,a+b\n",
        "            print(\"yes it is a fibnoci series \")\n",
        "        else:\n",
        "            print(\"it is not a fiibnoci series\")\n",
        "    print()\n",
        "fib(n)"
      ],
      "execution_count": 2,
      "outputs": [
        {
          "output_type": "stream",
          "name": "stdout",
          "text": [
            "enter a number :- 10\n",
            "0 yes it is a fibnoci series \n",
            "1 yes it is a fibnoci series \n",
            "2 yes it is a fibnoci series \n",
            "3 yes it is a fibnoci series \n",
            "4 yes it is a fibnoci series \n",
            "5 yes it is a fibnoci series \n",
            "6 yes it is a fibnoci series \n",
            "7 yes it is a fibnoci series \n",
            "8 yes it is a fibnoci series \n",
            "9 yes it is a fibnoci series \n",
            "\n"
          ]
        }
      ]
    },
    {
      "cell_type": "markdown",
      "metadata": {
        "id": "3hfExC9BPkKK"
      },
      "source": [
        "Reference: [Python Documentation on Functions](https://docs.python.org/3/tutorial/controlflow.html#defining-functions)"
      ]
    }
  ]
}